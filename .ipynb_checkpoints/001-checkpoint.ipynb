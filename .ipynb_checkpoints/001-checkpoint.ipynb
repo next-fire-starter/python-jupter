{
 "cells": [
  {
   "cell_type": "markdown",
   "id": "864db465-e1d9-48c1-9faf-dc905000d188",
   "metadata": {},
   "source": [
    "## Python3.7 Documentationより\n",
    "#### Python3.7 Documentation\n",
    "\n",
    "#### 2.1.3 コメント"
   ]
  },
  {
   "cell_type": "code",
   "execution_count": null,
   "id": "2c2aeb8d-5de3-4c69-91d3-6bd6cf163c9b",
   "metadata": {},
   "outputs": [],
   "source": [
    "# コメント\n",
    "\"\"\"\n",
    "ここは\n",
    "複数行コメント扱い\n",
    "\"\"\"\n",
    "4+4 # 行末までコメント"
   ]
  },
  {
   "cell_type": "markdown",
   "id": "6b9d6298-b9a2-4b84-8932-5bdd736e34af",
   "metadata": {},
   "source": [
    "printを試す"
   ]
  },
  {
   "cell_type": "code",
   "execution_count": 4,
   "id": "15ac40c5-b249-42c9-b327-a595b430e9eb",
   "metadata": {},
   "outputs": [
    {
     "name": "stdout",
     "output_type": "stream",
     "text": [
      "Hello Python\n",
      "AA124\n",
      "BBBCCC\n",
      "\n",
      "DDD\n",
      "EEE\n",
      "FFF\n",
      "\n"
     ]
    }
   ],
   "source": [
    "print(\"Hello Python\")\n",
    "print(\"AA\" + str(123 + 1))\n",
    "print(\"BBB\", end=\"\")\n",
    "print(\"CCC\"),\n",
    "print(\"\"\"\n",
    "DDD\n",
    "EEE\n",
    "FFF\n",
    "\"\"\")"
   ]
  },
  {
   "cell_type": "markdown",
   "id": "a513c714-9dbf-41fc-a3ad-cda6ce10b34a",
   "metadata": {},
   "source": [
    "#### 変数を試す"
   ]
  },
  {
   "cell_type": "code",
   "execution_count": 5,
   "id": "826668d4-54ab-4558-adac-bec9f1d9f0ce",
   "metadata": {},
   "outputs": [
    {
     "name": "stdout",
     "output_type": "stream",
     "text": [
      "Tom Brady 44\n"
     ]
    }
   ],
   "source": [
    "name = \"Tom Brady\"\n",
    "age = 43\n",
    "age = age + 1\n",
    "\n",
    "print(name , age)"
   ]
  },
  {
   "cell_type": "code",
   "execution_count": null,
   "id": "966c33cc-fe49-4543-93e8-5c487be0bbd9",
   "metadata": {},
   "outputs": [],
   "source": []
  }
 ],
 "metadata": {
  "kernelspec": {
   "display_name": "Python 3",
   "language": "python",
   "name": "python3"
  },
  "language_info": {
   "codemirror_mode": {
    "name": "ipython",
    "version": 3
   },
   "file_extension": ".py",
   "mimetype": "text/x-python",
   "name": "python",
   "nbconvert_exporter": "python",
   "pygments_lexer": "ipython3",
   "version": "3.7.11"
  }
 },
 "nbformat": 4,
 "nbformat_minor": 5
}
